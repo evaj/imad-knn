{
 "cells": [
  {
   "cell_type": "code",
   "execution_count": 58,
   "metadata": {},
   "outputs": [],
   "source": [
    "import pandas as pd\n",
    "import matplotlib.pyplot as plt\n",
    "import numpy as np"
   ]
  },
  {
   "cell_type": "code",
   "execution_count": 59,
   "metadata": {},
   "outputs": [],
   "source": [
    "data = pd.read_csv('logistic_results.csv')"
   ]
  },
  {
   "cell_type": "code",
   "execution_count": 60,
   "metadata": {},
   "outputs": [],
   "source": [
    "data_data1 = data.loc[data['Data_set'] == 'wine.data']\n",
    "argmax1 = data_data1.iloc[data_data1['F-score'].values.argmax()]\n",
    "data_data2 = data.loc[data['Data_set'] == 'diabetes.data']\n",
    "argmax2 = data_data2.iloc[data_data2['F-score'].values.argmax()]\n",
    "data_data3 = data.loc[data['Data_set'] == 'seeds.data']\n",
    "argmax3 = data_data3.iloc[data_data3['F-score'].values.argmax()]"
   ]
  },
  {
   "cell_type": "code",
   "execution_count": 61,
   "metadata": {},
   "outputs": [
    {
     "data": {
      "text/html": [
       "<div>\n",
       "<style scoped>\n",
       "    .dataframe tbody tr th:only-of-type {\n",
       "        vertical-align: middle;\n",
       "    }\n",
       "\n",
       "    .dataframe tbody tr th {\n",
       "        vertical-align: top;\n",
       "    }\n",
       "\n",
       "    .dataframe thead th {\n",
       "        text-align: right;\n",
       "    }\n",
       "</style>\n",
       "<table border=\"1\" class=\"dataframe\">\n",
       "  <thead>\n",
       "    <tr style=\"text-align: right;\">\n",
       "      <th></th>\n",
       "      <th>Data_set</th>\n",
       "      <th>CV</th>\n",
       "      <th>Penalty</th>\n",
       "      <th>Accuracy</th>\n",
       "      <th>F-score</th>\n",
       "    </tr>\n",
       "  </thead>\n",
       "  <tbody>\n",
       "    <tr>\n",
       "      <th>14</th>\n",
       "      <td>wine.data</td>\n",
       "      <td>7</td>\n",
       "      <td>l2</td>\n",
       "      <td>0.994505</td>\n",
       "      <td>0.994319</td>\n",
       "    </tr>\n",
       "    <tr>\n",
       "      <th>37</th>\n",
       "      <td>diabetes.data</td>\n",
       "      <td>3</td>\n",
       "      <td>l2</td>\n",
       "      <td>0.776060</td>\n",
       "      <td>0.742929</td>\n",
       "    </tr>\n",
       "    <tr>\n",
       "      <th>68</th>\n",
       "      <td>seeds.data</td>\n",
       "      <td>7</td>\n",
       "      <td>l2</td>\n",
       "      <td>0.952381</td>\n",
       "      <td>0.952321</td>\n",
       "    </tr>\n",
       "  </tbody>\n",
       "</table>\n",
       "</div>"
      ],
      "text/plain": [
       "         Data_set  CV Penalty  Accuracy   F-score\n",
       "14      wine.data   7      l2  0.994505  0.994319\n",
       "37  diabetes.data   3      l2  0.776060  0.742929\n",
       "68     seeds.data   7      l2  0.952381  0.952321"
      ]
     },
     "execution_count": 61,
     "metadata": {},
     "output_type": "execute_result"
    }
   ],
   "source": [
    "fil_data = pd.DataFrame([argmax1, argmax2, argmax3])\n",
    "fil_data"
   ]
  },
  {
   "cell_type": "code",
   "execution_count": null,
   "metadata": {},
   "outputs": [],
   "source": []
  },
  {
   "cell_type": "code",
   "execution_count": 66,
   "metadata": {},
   "outputs": [
    {
     "data": {
      "text/html": [
       "<div>\n",
       "<style scoped>\n",
       "    .dataframe tbody tr th:only-of-type {\n",
       "        vertical-align: middle;\n",
       "    }\n",
       "\n",
       "    .dataframe tbody tr th {\n",
       "        vertical-align: top;\n",
       "    }\n",
       "\n",
       "    .dataframe thead th {\n",
       "        text-align: right;\n",
       "    }\n",
       "</style>\n",
       "<table border=\"1\" class=\"dataframe\">\n",
       "  <thead>\n",
       "    <tr style=\"text-align: right;\">\n",
       "      <th></th>\n",
       "      <th>Data_set</th>\n",
       "      <th>Boot</th>\n",
       "      <th>Max_sample</th>\n",
       "      <th>Cv</th>\n",
       "      <th>Max_feature</th>\n",
       "      <th>Number_of_est</th>\n",
       "      <th>Accuracy</th>\n",
       "      <th>F-score</th>\n",
       "    </tr>\n",
       "  </thead>\n",
       "  <tbody>\n",
       "    <tr>\n",
       "      <th>1</th>\n",
       "      <td>wine.data</td>\n",
       "      <td>False</td>\n",
       "      <td>2</td>\n",
       "      <td>2</td>\n",
       "      <td>2</td>\n",
       "      <td>5</td>\n",
       "      <td>0.540152</td>\n",
       "      <td>0.426732</td>\n",
       "    </tr>\n",
       "    <tr>\n",
       "      <th>9</th>\n",
       "      <td>diabetes.data</td>\n",
       "      <td>False</td>\n",
       "      <td>2</td>\n",
       "      <td>2</td>\n",
       "      <td>2</td>\n",
       "      <td>5</td>\n",
       "      <td>0.589844</td>\n",
       "      <td>0.438368</td>\n",
       "    </tr>\n",
       "    <tr>\n",
       "      <th>16</th>\n",
       "      <td>seeds.data</td>\n",
       "      <td>True</td>\n",
       "      <td>2</td>\n",
       "      <td>2</td>\n",
       "      <td>2</td>\n",
       "      <td>5</td>\n",
       "      <td>0.671429</td>\n",
       "      <td>0.609468</td>\n",
       "    </tr>\n",
       "  </tbody>\n",
       "</table>\n",
       "</div>"
      ],
      "text/plain": [
       "         Data_set   Boot  Max_sample  Cv  Max_feature  Number_of_est  \\\n",
       "1       wine.data  False           2   2            2              5   \n",
       "9   diabetes.data  False           2   2            2              5   \n",
       "16     seeds.data   True           2   2            2              5   \n",
       "\n",
       "    Accuracy   F-score  \n",
       "1   0.540152  0.426732  \n",
       "9   0.589844  0.438368  \n",
       "16  0.671429  0.609468  "
      ]
     },
     "execution_count": 66,
     "metadata": {},
     "output_type": "execute_result"
    }
   ],
   "source": [
    "data = pd.read_csv('ensemble_logistic_results.csv')\n",
    "data_data4 = data.loc[data['Data_set'] == 'wine.data']\n",
    "argmax4 = data_data4.iloc[data_data4['F-score'].values.argmax()]\n",
    "data_data5 = data.loc[data['Data_set'] == 'diabetes.data']\n",
    "argmax5 = data_data5.iloc[data_data5['F-score'].values.argmax()]\n",
    "data_data6 = data.loc[data['Data_set'] == 'seeds.data']\n",
    "argmax6 = data_data6.iloc[data_data6['F-score'].values.argmax()]\n",
    "fil_data2 = pd.DataFrame([argmax4, argmax5, argmax6])\n",
    "fil_data2"
   ]
  },
  {
   "cell_type": "code",
   "execution_count": null,
   "metadata": {},
   "outputs": [],
   "source": []
  }
 ],
 "metadata": {
  "kernelspec": {
   "display_name": "data-science",
   "language": "python",
   "name": "data-science"
  },
  "language_info": {
   "codemirror_mode": {
    "name": "ipython",
    "version": 3
   },
   "file_extension": ".py",
   "mimetype": "text/x-python",
   "name": "python",
   "nbconvert_exporter": "python",
   "pygments_lexer": "ipython3",
   "version": "3.6.2"
  }
 },
 "nbformat": 4,
 "nbformat_minor": 2
}
