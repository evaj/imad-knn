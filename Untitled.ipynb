{
 "cells": [
  {
   "cell_type": "code",
   "execution_count": 58,
   "metadata": {},
   "outputs": [],
   "source": [
    "import pandas as pd\n",
    "import matplotlib.pyplot as plt\n",
    "import numpy as np"
   ]
  },
  {
   "cell_type": "code",
   "execution_count": 74,
   "metadata": {},
   "outputs": [
    {
     "data": {
      "text/html": [
       "<div>\n",
       "<style scoped>\n",
       "    .dataframe tbody tr th:only-of-type {\n",
       "        vertical-align: middle;\n",
       "    }\n",
       "\n",
       "    .dataframe tbody tr th {\n",
       "        vertical-align: top;\n",
       "    }\n",
       "\n",
       "    .dataframe thead th {\n",
       "        text-align: right;\n",
       "    }\n",
       "</style>\n",
       "<table border=\"1\" class=\"dataframe\">\n",
       "  <thead>\n",
       "    <tr style=\"text-align: right;\">\n",
       "      <th></th>\n",
       "      <th>Data_set</th>\n",
       "      <th>CV</th>\n",
       "      <th>Penalty</th>\n",
       "      <th>Accuracy</th>\n",
       "      <th>F-score</th>\n",
       "    </tr>\n",
       "  </thead>\n",
       "  <tbody>\n",
       "    <tr>\n",
       "      <th>14</th>\n",
       "      <td>wine.data</td>\n",
       "      <td>7</td>\n",
       "      <td>l2</td>\n",
       "      <td>0.994505</td>\n",
       "      <td>0.994319</td>\n",
       "    </tr>\n",
       "    <tr>\n",
       "      <th>37</th>\n",
       "      <td>diabetes.data</td>\n",
       "      <td>3</td>\n",
       "      <td>l2</td>\n",
       "      <td>0.776060</td>\n",
       "      <td>0.742929</td>\n",
       "    </tr>\n",
       "    <tr>\n",
       "      <th>68</th>\n",
       "      <td>seeds.data</td>\n",
       "      <td>7</td>\n",
       "      <td>l2</td>\n",
       "      <td>0.952381</td>\n",
       "      <td>0.952321</td>\n",
       "    </tr>\n",
       "  </tbody>\n",
       "</table>\n",
       "</div>"
      ],
      "text/plain": [
       "         Data_set  CV Penalty  Accuracy   F-score\n",
       "14      wine.data   7      l2  0.994505  0.994319\n",
       "37  diabetes.data   3      l2  0.776060  0.742929\n",
       "68     seeds.data   7      l2  0.952381  0.952321"
      ]
     },
     "execution_count": 74,
     "metadata": {},
     "output_type": "execute_result"
    }
   ],
   "source": [
    "data = pd.read_csv('logistic_results.csv')\n",
    "data_data1 = data.loc[data['Data_set'] == 'wine.data']\n",
    "argmax1 = data_data1.iloc[data_data1['F-score'].values.argmax()]\n",
    "data_data2 = data.loc[data['Data_set'] == 'diabetes.data']\n",
    "argmax2 = data_data2.iloc[data_data2['F-score'].values.argmax()]\n",
    "data_data3 = data.loc[data['Data_set'] == 'seeds.data']\n",
    "argmax3 = data_data3.iloc[data_data3['F-score'].values.argmax()]\n",
    "fil_data = pd.DataFrame([argmax1, argmax2, argmax3])\n",
    "fil_data"
   ]
  },
  {
   "cell_type": "code",
   "execution_count": 105,
   "metadata": {},
   "outputs": [
    {
     "name": "stdout",
     "output_type": "stream",
     "text": [
      "\\begin{tabular}{lrrrrrrrrr}\n",
      "\\toprule\n",
      "    Penalty &     2 &     3 &     4 &     5 &     6 &     7 &     8 &     9 &    10 \\\\\n",
      "\\midrule\n",
      " elasticnet &  0.97 &  0.97 &  0.98 &  0.98 &  0.98 &  0.97 &  0.97 &  0.96 &  0.99 \\\\\n",
      "         l1 &  0.95 &  0.98 &  0.96 &  0.99 &  0.98 &  0.98 &  0.97 &  0.96 &  0.99 \\\\\n",
      "         l2 &  0.97 &  0.96 &  0.96 &  0.99 &  0.97 &  0.99 &  0.98 &  0.98 &  0.99 \\\\\n",
      "\\bottomrule\n",
      "\\end{tabular}\n",
      "\n",
      "\\begin{tabular}{lrrrrrrrrr}\n",
      "\\toprule\n",
      "    Penalty &     2 &     3 &     4 &     5 &     6 &     7 &     8 &     9 &    10 \\\\\n",
      "\\midrule\n",
      " elasticnet &  0.68 &  0.72 &  0.72 &  0.71 &  0.72 &  0.68 &  0.69 &  0.71 &  0.69 \\\\\n",
      "         l1 &  0.59 &  0.67 &  0.73 &  0.73 &  0.71 &  0.67 &  0.71 &  0.70 &  0.71 \\\\\n",
      "         l2 &  0.61 &  0.74 &  0.61 &  0.73 &  0.71 &  0.67 &  0.71 &  0.69 &  0.70 \\\\\n",
      "\\bottomrule\n",
      "\\end{tabular}\n",
      "\n",
      "\\begin{tabular}{lrrrrrrrrr}\n",
      "\\toprule\n",
      "    Penalty &     2 &     3 &     4 &     5 &     6 &     7 &     8 &     9 &    10 \\\\\n",
      "\\midrule\n",
      " elasticnet &  0.90 &  0.91 &  0.91 &  0.94 &  0.93 &  0.93 &  0.89 &  0.94 &  0.92 \\\\\n",
      "         l1 &  0.91 &  0.91 &  0.92 &  0.90 &  0.94 &  0.93 &  0.93 &  0.94 &  0.91 \\\\\n",
      "         l2 &  0.90 &  0.91 &  0.91 &  0.91 &  0.89 &  0.95 &  0.93 &  0.91 &  0.92 \\\\\n",
      "\\bottomrule\n",
      "\\end{tabular}\n",
      "\n"
     ]
    }
   ],
   "source": [
    "for d in ['wine.data', 'diabetes.data', 'seeds.data']:    \n",
    "    process_data = data.loc[data['Data_set'] == d].round(2)\n",
    "    print(pd.pivot_table(process_data, values = 'F-score', index='Penalty', columns = 'CV').reset_index().to_latex(index=False))\n"
   ]
  },
  {
   "cell_type": "code",
   "execution_count": 106,
   "metadata": {},
   "outputs": [
    {
     "data": {
      "text/html": [
       "<div>\n",
       "<style scoped>\n",
       "    .dataframe tbody tr th:only-of-type {\n",
       "        vertical-align: middle;\n",
       "    }\n",
       "\n",
       "    .dataframe tbody tr th {\n",
       "        vertical-align: top;\n",
       "    }\n",
       "\n",
       "    .dataframe thead th {\n",
       "        text-align: right;\n",
       "    }\n",
       "</style>\n",
       "<table border=\"1\" class=\"dataframe\">\n",
       "  <thead>\n",
       "    <tr style=\"text-align: right;\">\n",
       "      <th></th>\n",
       "      <th>Data_set</th>\n",
       "      <th>Cv</th>\n",
       "      <th>Number_of_est</th>\n",
       "      <th>Learning_rate</th>\n",
       "      <th>Accuracy</th>\n",
       "      <th>F-score</th>\n",
       "    </tr>\n",
       "  </thead>\n",
       "  <tbody>\n",
       "    <tr>\n",
       "      <th>126</th>\n",
       "      <td>wine.data</td>\n",
       "      <td>6</td>\n",
       "      <td>60</td>\n",
       "      <td>0.4</td>\n",
       "      <td>0.988889</td>\n",
       "      <td>0.989256</td>\n",
       "    </tr>\n",
       "    <tr>\n",
       "      <th>356</th>\n",
       "      <td>diabetes.data</td>\n",
       "      <td>2</td>\n",
       "      <td>50</td>\n",
       "      <td>1.2</td>\n",
       "      <td>0.776042</td>\n",
       "      <td>0.744532</td>\n",
       "    </tr>\n",
       "    <tr>\n",
       "      <th>652</th>\n",
       "      <td>seeds.data</td>\n",
       "      <td>2</td>\n",
       "      <td>80</td>\n",
       "      <td>0.4</td>\n",
       "      <td>0.928571</td>\n",
       "      <td>0.928708</td>\n",
       "    </tr>\n",
       "  </tbody>\n",
       "</table>\n",
       "</div>"
      ],
      "text/plain": [
       "          Data_set  Cv  Number_of_est  Learning_rate  Accuracy   F-score\n",
       "126      wine.data   6             60            0.4  0.988889  0.989256\n",
       "356  diabetes.data   2             50            1.2  0.776042  0.744532\n",
       "652     seeds.data   2             80            0.4  0.928571  0.928708"
      ]
     },
     "execution_count": 106,
     "metadata": {},
     "output_type": "execute_result"
    }
   ],
   "source": [
    "data = pd.read_csv('ensemble_logistic_results.csv')\n",
    "data_data4 = data.loc[data['Data_set'] == 'wine.data']\n",
    "argmax4 = data_data4.iloc[data_data4['F-score'].values.argmax()]\n",
    "data_data5 = data.loc[data['Data_set'] == 'diabetes.data']\n",
    "argmax5 = data_data5.iloc[data_data5['F-score'].values.argmax()]\n",
    "data_data6 = data.loc[data['Data_set'] == 'seeds.data']\n",
    "argmax6 = data_data6.iloc[data_data6['F-score'].values.argmax()]\n",
    "    \n",
    "fil_data2 = pd.DataFrame([argmax4, argmax5, argmax6])\n",
    "fil_data2"
   ]
  },
  {
   "cell_type": "code",
   "execution_count": 120,
   "metadata": {},
   "outputs": [
    {
     "name": "stdout",
     "output_type": "stream",
     "text": [
      "\\begin{tabular}{llrrrrrrrrrr}\n",
      "\\toprule\n",
      "    & Number\\_of\\_est &   10  &   20  &   30  &   40  &   50  &   60  &   70  &   80  &   90  &   100 \\\\\n",
      "Learning\\_rate & Cv &       &       &       &       &       &       &       &       &       &       \\\\\n",
      "\\midrule\n",
      "0.2 & 2 &  0.98 &  0.97 &  0.98 &  0.98 &  0.97 &  0.97 &  0.97 &  0.96 &  0.97 &  0.98 \\\\\n",
      "    & 4 &  0.98 &  0.97 &  0.98 &  0.98 &  0.97 &  0.96 &  0.97 &  0.96 &  0.98 &  0.96 \\\\\n",
      "    & 6 &  0.98 &  0.98 &  0.97 &  0.97 &  0.98 &  0.98 &  0.97 &  0.97 &  0.97 &  0.97 \\\\\n",
      "    & 8 &  0.98 &  0.98 &  0.98 &  0.97 &  0.96 &  0.97 &  0.97 &  0.98 &  0.94 &  0.96 \\\\\n",
      "0.4 & 2 &  0.97 &  0.97 &  0.96 &  0.98 &  0.99 &  0.98 &  0.96 &  0.95 &  0.97 &  0.97 \\\\\n",
      "    & 4 &  0.97 &  0.98 &  0.98 &  0.97 &  0.96 &  0.95 &  0.98 &  0.98 &  0.96 &  0.96 \\\\\n",
      "    & 6 &  0.97 &  0.97 &  0.97 &  0.96 &  0.96 &  0.99 &  0.97 &  0.98 &  0.97 &  0.97 \\\\\n",
      "    & 8 &  0.98 &  0.98 &  0.97 &  0.97 &  0.98 &  0.98 &  0.96 &  0.98 &  0.96 &  0.98 \\\\\n",
      "0.6 & 2 &  0.98 &  0.95 &  0.98 &  0.98 &  0.98 &  0.97 &  0.97 &  0.98 &  0.97 &  0.98 \\\\\n",
      "    & 4 &  0.97 &  0.96 &  0.96 &  0.96 &  0.98 &  0.98 &  0.97 &  0.96 &  0.97 &  0.95 \\\\\n",
      "    & 6 &  0.98 &  0.97 &  0.98 &  0.98 &  0.98 &  0.97 &  0.97 &  0.99 &  0.97 &  0.98 \\\\\n",
      "    & 8 &  0.97 &  0.96 &  0.97 &  0.98 &  0.99 &  0.97 &  0.97 &  0.97 &  0.98 &  0.97 \\\\\n",
      "0.8 & 2 &  0.97 &  0.95 &  0.99 &  0.95 &  0.96 &  0.98 &  0.98 &  0.96 &  0.95 &  0.98 \\\\\n",
      "    & 4 &  0.97 &  0.98 &  0.98 &  0.96 &  0.98 &  0.96 &  0.97 &  0.97 &  0.97 &  0.97 \\\\\n",
      "    & 6 &  0.98 &  0.98 &  0.97 &  0.98 &  0.97 &  0.98 &  0.97 &  0.96 &  0.97 &  0.97 \\\\\n",
      "    & 8 &  0.98 &  0.96 &  0.98 &  0.98 &  0.97 &  0.97 &  0.96 &  0.97 &  0.97 &  0.97 \\\\\n",
      "1.0 & 2 &  0.97 &  0.97 &  0.97 &  0.94 &  0.98 &  0.95 &  0.95 &  0.98 &  0.98 &  0.96 \\\\\n",
      "    & 4 &  0.98 &  0.98 &  0.97 &  0.96 &  0.97 &  0.98 &  0.97 &  0.98 &  0.96 &  0.97 \\\\\n",
      "    & 6 &  0.98 &  0.97 &  0.97 &  0.98 &  0.98 &  0.97 &  0.94 &  0.98 &  0.97 &  0.99 \\\\\n",
      "    & 8 &  0.98 &  0.97 &  0.98 &  0.97 &  0.97 &  0.97 &  0.97 &  0.99 &  0.97 &  0.97 \\\\\n",
      "1.2 & 2 &  0.97 &  0.94 &  0.97 &  0.98 &  0.98 &  0.97 &  0.96 &  0.97 &  0.97 &  0.97 \\\\\n",
      "    & 4 &  0.98 &  0.97 &  0.97 &  0.95 &  0.98 &  0.98 &  0.96 &  0.98 &  0.96 &  0.95 \\\\\n",
      "    & 6 &  0.98 &  0.97 &  0.98 &  0.97 &  0.97 &  0.97 &  0.97 &  0.98 &  0.98 &  0.96 \\\\\n",
      "    & 8 &  0.97 &  0.97 &  0.97 &  0.98 &  0.96 &  0.97 &  0.96 &  0.98 &  0.98 &  0.98 \\\\\n",
      "\\bottomrule\n",
      "\\end{tabular}\n",
      "\n"
     ]
    }
   ],
   "source": [
    "for d in ['wine.data', 'diabetes.data', 'seeds.data']:    \n",
    "    process_data = data.loc[data['Data_set'] == d].round(2)\n",
    "\n",
    "process_data = data.loc[data['Data_set'] == 'wine.data'].round(2)\n",
    "process_data\n",
    "# print(pd.pivot_table(process_data, values = 'F-score', index='Number_of_est', columns = 'Cv').reset_index().to_latex(index=False))\n",
    "print(pd.pivot_table(process_data, values = 'F-score', index=['Learning_rate', 'Cv'], columns = 'Number_of_est').to_latex())\n",
    "\n"
   ]
  },
  {
   "cell_type": "code",
   "execution_count": null,
   "metadata": {},
   "outputs": [],
   "source": []
  }
 ],
 "metadata": {
  "kernelspec": {
   "display_name": "data-science",
   "language": "python",
   "name": "data-science"
  },
  "language_info": {
   "codemirror_mode": {
    "name": "ipython",
    "version": 3
   },
   "file_extension": ".py",
   "mimetype": "text/x-python",
   "name": "python",
   "nbconvert_exporter": "python",
   "pygments_lexer": "ipython3",
   "version": "3.6.2"
  }
 },
 "nbformat": 4,
 "nbformat_minor": 2
}
