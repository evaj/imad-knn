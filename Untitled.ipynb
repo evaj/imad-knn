{
 "cells": [
  {
   "cell_type": "code",
   "execution_count": 1,
   "metadata": {},
   "outputs": [],
   "source": [
    "import pandas as pd\n",
    "import matplotlib.pyplot as plt\n",
    "import numpy as np"
   ]
  },
  {
   "cell_type": "code",
   "execution_count": 2,
   "metadata": {},
   "outputs": [],
   "source": [
    "data = pd.read_csv('mlp_results.csv')"
   ]
  },
  {
   "cell_type": "code",
   "execution_count": 7,
   "metadata": {},
   "outputs": [],
   "source": [
    "data_data1 = data.loc[data['Data_set'] == 'wine.data']\n",
    "argmax1 = data_data1.iloc[data_data1['F-score'].values.argmax()]\n",
    "data_data4 = data.loc[data['Data_set'] == 'diabetes.data']\n",
    "argmax2 = data_data4.iloc[data_data4['F-score'].values.argmax()]\n",
    "data_data5 = data.loc[data['Data_set'] == 'seeds.data']\n",
    "argmax3 = data_data5.iloc[data_data5['F-score'].values.argmax()]"
   ]
  },
  {
   "cell_type": "code",
   "execution_count": 8,
   "metadata": {},
   "outputs": [
    {
     "data": {
      "text/html": [
       "<div>\n",
       "<style scoped>\n",
       "    .dataframe tbody tr th:only-of-type {\n",
       "        vertical-align: middle;\n",
       "    }\n",
       "\n",
       "    .dataframe tbody tr th {\n",
       "        vertical-align: top;\n",
       "    }\n",
       "\n",
       "    .dataframe thead th {\n",
       "        text-align: right;\n",
       "    }\n",
       "</style>\n",
       "<table border=\"1\" class=\"dataframe\">\n",
       "  <thead>\n",
       "    <tr style=\"text-align: right;\">\n",
       "      <th></th>\n",
       "      <th>Data_set</th>\n",
       "      <th>Layer_size</th>\n",
       "      <th>Activation</th>\n",
       "      <th>CV</th>\n",
       "      <th>Solver</th>\n",
       "      <th>Accuracy</th>\n",
       "      <th>F-score</th>\n",
       "    </tr>\n",
       "  </thead>\n",
       "  <tbody>\n",
       "    <tr>\n",
       "      <th>72</th>\n",
       "      <td>wine.data</td>\n",
       "      <td>(25,)</td>\n",
       "      <td>relu</td>\n",
       "      <td>2</td>\n",
       "      <td>adam</td>\n",
       "      <td>0.977399</td>\n",
       "      <td>0.977903</td>\n",
       "    </tr>\n",
       "    <tr>\n",
       "      <th>314</th>\n",
       "      <td>diabetes.data</td>\n",
       "      <td>(25,)</td>\n",
       "      <td>relu</td>\n",
       "      <td>6</td>\n",
       "      <td>adam</td>\n",
       "      <td>0.774872</td>\n",
       "      <td>0.740218</td>\n",
       "    </tr>\n",
       "    <tr>\n",
       "      <th>536</th>\n",
       "      <td>seeds.data</td>\n",
       "      <td>(20,)</td>\n",
       "      <td>relu</td>\n",
       "      <td>2</td>\n",
       "      <td>adam</td>\n",
       "      <td>0.923810</td>\n",
       "      <td>0.923725</td>\n",
       "    </tr>\n",
       "  </tbody>\n",
       "</table>\n",
       "</div>"
      ],
      "text/plain": [
       "          Data_set Layer_size Activation  CV Solver  Accuracy   F-score\n",
       "72       wine.data      (25,)       relu   2   adam  0.977399  0.977903\n",
       "314  diabetes.data      (25,)       relu   6   adam  0.774872  0.740218\n",
       "536     seeds.data      (20,)       relu   2   adam  0.923810  0.923725"
      ]
     },
     "execution_count": 8,
     "metadata": {},
     "output_type": "execute_result"
    }
   ],
   "source": [
    "fil_data = pd.DataFrame([argmax1, argmax2, argmax3])\n",
    "fil_data"
   ]
  },
  {
   "cell_type": "code",
   "execution_count": null,
   "metadata": {},
   "outputs": [],
   "source": []
  }
 ],
 "metadata": {
  "kernelspec": {
   "display_name": "data-science",
   "language": "python",
   "name": "data-science"
  },
  "language_info": {
   "codemirror_mode": {
    "name": "ipython",
    "version": 3
   },
   "file_extension": ".py",
   "mimetype": "text/x-python",
   "name": "python",
   "nbconvert_exporter": "python",
   "pygments_lexer": "ipython3",
   "version": "3.6.2"
  }
 },
 "nbformat": 4,
 "nbformat_minor": 2
}
