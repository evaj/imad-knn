{
 "cells": [
  {
   "cell_type": "code",
   "execution_count": 58,
   "metadata": {},
   "outputs": [],
   "source": [
    "import pandas as pd\n",
    "import matplotlib.pyplot as plt\n",
    "import numpy as np"
   ]
  },
  {
   "cell_type": "code",
   "execution_count": 131,
   "metadata": {},
   "outputs": [
    {
     "name": "stdout",
     "output_type": "stream",
     "text": [
      "\\begin{tabular}{lrlrr}\n",
      "\\toprule\n",
      "      Data\\_set &  CV & Penalty &  Accuracy &   F-score \\\\\n",
      "\\midrule\n",
      "     wine.data &   7 &      l2 &  0.994505 &  0.994319 \\\\\n",
      " diabetes.data &   3 &      l2 &  0.776060 &  0.742929 \\\\\n",
      "    seeds.data &   7 &      l2 &  0.952381 &  0.952321 \\\\\n",
      "\\bottomrule\n",
      "\\end{tabular}\n",
      "\n"
     ]
    }
   ],
   "source": [
    "data = pd.read_csv('logistic_results.csv')\n",
    "data_data1 = data.loc[data['Data_set'] == 'wine.data']\n",
    "argmax1 = data_data1.iloc[data_data1['F-score'].values.argmax()]\n",
    "data_data2 = data.loc[data['Data_set'] == 'diabetes.data']\n",
    "argmax2 = data_data2.iloc[data_data2['F-score'].values.argmax()]\n",
    "data_data3 = data.loc[data['Data_set'] == 'seeds.data']\n",
    "argmax3 = data_data3.iloc[data_data3['F-score'].values.argmax()]\n",
    "fil_data = pd.DataFrame([argmax1, argmax2, argmax3])\n",
    "print(fil_data.to_latex(index=False))"
   ]
  },
  {
   "cell_type": "code",
   "execution_count": 105,
   "metadata": {},
   "outputs": [
    {
     "name": "stdout",
     "output_type": "stream",
     "text": [
      "\\begin{tabular}{lrrrrrrrrr}\n",
      "\\toprule\n",
      "    Penalty &     2 &     3 &     4 &     5 &     6 &     7 &     8 &     9 &    10 \\\\\n",
      "\\midrule\n",
      " elasticnet &  0.97 &  0.97 &  0.98 &  0.98 &  0.98 &  0.97 &  0.97 &  0.96 &  0.99 \\\\\n",
      "         l1 &  0.95 &  0.98 &  0.96 &  0.99 &  0.98 &  0.98 &  0.97 &  0.96 &  0.99 \\\\\n",
      "         l2 &  0.97 &  0.96 &  0.96 &  0.99 &  0.97 &  0.99 &  0.98 &  0.98 &  0.99 \\\\\n",
      "\\bottomrule\n",
      "\\end{tabular}\n",
      "\n",
      "\\begin{tabular}{lrrrrrrrrr}\n",
      "\\toprule\n",
      "    Penalty &     2 &     3 &     4 &     5 &     6 &     7 &     8 &     9 &    10 \\\\\n",
      "\\midrule\n",
      " elasticnet &  0.68 &  0.72 &  0.72 &  0.71 &  0.72 &  0.68 &  0.69 &  0.71 &  0.69 \\\\\n",
      "         l1 &  0.59 &  0.67 &  0.73 &  0.73 &  0.71 &  0.67 &  0.71 &  0.70 &  0.71 \\\\\n",
      "         l2 &  0.61 &  0.74 &  0.61 &  0.73 &  0.71 &  0.67 &  0.71 &  0.69 &  0.70 \\\\\n",
      "\\bottomrule\n",
      "\\end{tabular}\n",
      "\n",
      "\\begin{tabular}{lrrrrrrrrr}\n",
      "\\toprule\n",
      "    Penalty &     2 &     3 &     4 &     5 &     6 &     7 &     8 &     9 &    10 \\\\\n",
      "\\midrule\n",
      " elasticnet &  0.90 &  0.91 &  0.91 &  0.94 &  0.93 &  0.93 &  0.89 &  0.94 &  0.92 \\\\\n",
      "         l1 &  0.91 &  0.91 &  0.92 &  0.90 &  0.94 &  0.93 &  0.93 &  0.94 &  0.91 \\\\\n",
      "         l2 &  0.90 &  0.91 &  0.91 &  0.91 &  0.89 &  0.95 &  0.93 &  0.91 &  0.92 \\\\\n",
      "\\bottomrule\n",
      "\\end{tabular}\n",
      "\n"
     ]
    }
   ],
   "source": [
    "for d in ['wine.data', 'diabetes.data', 'seeds.data']:    \n",
    "    process_data = data.loc[data['Data_set'] == d].round(2)\n",
    "    print(pd.pivot_table(process_data, values = 'F-score', index='Penalty', columns = 'CV').reset_index().to_latex(index=False))\n"
   ]
  },
  {
   "cell_type": "code",
   "execution_count": 147,
   "metadata": {},
   "outputs": [
    {
     "name": "stdout",
     "output_type": "stream",
     "text": [
      "\\begin{tabular}{llrrrrr}\n",
      "\\toprule\n",
      "{} &       Data\\_set &  Cv &  Number\\_of\\_est &  Learning\\_rate &  Accuracy &  F-score \\\\\n",
      "\\midrule\n",
      "126 &      wine.data &   6 &             60 &            0.4 &      0.99 &     0.99 \\\\\n",
      "356 &  diabetes.data &   2 &             50 &            1.2 &      0.78 &     0.74 \\\\\n",
      "652 &     seeds.data &   2 &             80 &            0.4 &      0.93 &     0.93 \\\\\n",
      "\\bottomrule\n",
      "\\end{tabular}\n",
      "\n"
     ]
    }
   ],
   "source": [
    "data = pd.read_csv('ensemble_logistic_results.csv')\n",
    "data_data4 = data.loc[data['Data_set'] == 'wine.data']\n",
    "argmax4 = data_data4.iloc[data_data4['F-score'].values.argmax()]\n",
    "data_data5 = data.loc[data['Data_set'] == 'diabetes.data']\n",
    "argmax5 = data_data5.iloc[data_data5['F-score'].values.argmax()]\n",
    "data_data6 = data.loc[data['Data_set'] == 'seeds.data']\n",
    "argmax6 = data_data6.iloc[data_data6['F-score'].values.argmax()]\n",
    "    \n",
    "fil_data2 = pd.DataFrame([argmax4, argmax5, argmax6])\n",
    "print(fil_data2.round(2).to_latex())"
   ]
  },
  {
   "cell_type": "code",
   "execution_count": 121,
   "metadata": {},
   "outputs": [
    {
     "name": "stdout",
     "output_type": "stream",
     "text": [
      "\\begin{tabular}{llrrrrrrrrrr}\n",
      "\\toprule\n",
      "    & Number\\_of\\_est &   10  &   20  &   30  &   40  &   50  &   60  &   70  &   80  &   90  &   100 \\\\\n",
      "Learning\\_rate & Cv &       &       &       &       &       &       &       &       &       &       \\\\\n",
      "\\midrule\n",
      "0.2 & 2 &  0.72 &  0.72 &  0.73 &  0.72 &  0.73 &  0.73 &  0.72 &  0.72 &  0.72 &  0.73 \\\\\n",
      "    & 4 &  0.72 &  0.70 &  0.72 &  0.73 &  0.73 &  0.73 &  0.71 &  0.73 &  0.72 &  0.74 \\\\\n",
      "    & 6 &  0.73 &  0.72 &  0.71 &  0.73 &  0.72 &  0.73 &  0.74 &  0.73 &  0.74 &  0.73 \\\\\n",
      "    & 8 &  0.72 &  0.72 &  0.72 &  0.72 &  0.73 &  0.72 &  0.73 &  0.73 &  0.71 &  0.71 \\\\\n",
      "0.4 & 2 &  0.71 &  0.71 &  0.72 &  0.74 &  0.73 &  0.73 &  0.71 &  0.69 &  0.72 &  0.73 \\\\\n",
      "    & 4 &  0.73 &  0.71 &  0.71 &  0.73 &  0.72 &  0.72 &  0.72 &  0.73 &  0.73 &  0.72 \\\\\n",
      "    & 6 &  0.72 &  0.73 &  0.72 &  0.71 &  0.72 &  0.71 &  0.73 &  0.73 &  0.72 &  0.73 \\\\\n",
      "    & 8 &  0.72 &  0.72 &  0.73 &  0.73 &  0.71 &  0.71 &  0.74 &  0.73 &  0.72 &  0.71 \\\\\n",
      "0.6 & 2 &  0.72 &  0.73 &  0.72 &  0.71 &  0.72 &  0.72 &  0.73 &  0.72 &  0.73 &  0.72 \\\\\n",
      "    & 4 &  0.73 &  0.73 &  0.72 &  0.72 &  0.74 &  0.72 &  0.72 &  0.73 &  0.71 &  0.73 \\\\\n",
      "    & 6 &  0.72 &  0.72 &  0.71 &  0.73 &  0.72 &  0.72 &  0.72 &  0.74 &  0.72 &  0.72 \\\\\n",
      "    & 8 &  0.72 &  0.72 &  0.72 &  0.72 &  0.72 &  0.73 &  0.72 &  0.72 &  0.73 &  0.73 \\\\\n",
      "0.8 & 2 &  0.73 &  0.70 &  0.74 &  0.73 &  0.71 &  0.72 &  0.73 &  0.74 &  0.72 &  0.72 \\\\\n",
      "    & 4 &  0.74 &  0.70 &  0.73 &  0.73 &  0.73 &  0.73 &  0.73 &  0.72 &  0.72 &  0.73 \\\\\n",
      "    & 6 &  0.73 &  0.70 &  0.72 &  0.72 &  0.73 &  0.73 &  0.72 &  0.72 &  0.71 &  0.72 \\\\\n",
      "    & 8 &  0.71 &  0.71 &  0.73 &  0.73 &  0.72 &  0.72 &  0.72 &  0.73 &  0.73 &  0.73 \\\\\n",
      "1.0 & 2 &  0.72 &  0.73 &  0.73 &  0.73 &  0.72 &  0.72 &  0.72 &  0.71 &  0.73 &  0.69 \\\\\n",
      "    & 4 &  0.73 &  0.72 &  0.72 &  0.71 &  0.72 &  0.72 &  0.72 &  0.72 &  0.73 &  0.71 \\\\\n",
      "    & 6 &  0.73 &  0.72 &  0.72 &  0.72 &  0.73 &  0.70 &  0.73 &  0.73 &  0.72 &  0.72 \\\\\n",
      "    & 8 &  0.72 &  0.73 &  0.72 &  0.73 &  0.72 &  0.72 &  0.72 &  0.72 &  0.72 &  0.71 \\\\\n",
      "1.2 & 2 &  0.73 &  0.74 &  0.71 &  0.72 &  0.74 &  0.73 &  0.72 &  0.73 &  0.71 &  0.72 \\\\\n",
      "    & 4 &  0.73 &  0.71 &  0.72 &  0.71 &  0.72 &  0.71 &  0.71 &  0.72 &  0.73 &  0.72 \\\\\n",
      "    & 6 &  0.72 &  0.71 &  0.72 &  0.74 &  0.71 &  0.72 &  0.73 &  0.72 &  0.72 &  0.72 \\\\\n",
      "    & 8 &  0.72 &  0.73 &  0.72 &  0.72 &  0.72 &  0.72 &  0.71 &  0.71 &  0.71 &  0.72 \\\\\n",
      "\\bottomrule\n",
      "\\end{tabular}\n",
      "\n"
     ]
    }
   ],
   "source": [
    "for d in ['wine.data', 'diabetes.data', 'seeds.data']:    \n",
    "    process_data = data.loc[data['Data_set'] == d].round(2)\n",
    "\n",
    "process_data = data.loc[data['Data_set'] == 'diabetes.data'].round(2)\n",
    "process_data\n",
    "# print(pd.pivot_table(process_data, values = 'F-score', index='Number_of_est', columns = 'Cv').reset_index().to_latex(index=False))\n",
    "print(pd.pivot_table(process_data, values = 'F-score', index=['Learning_rate', 'Cv'], columns = 'Number_of_est').to_latex())\n",
    "\n"
   ]
  },
  {
   "cell_type": "code",
   "execution_count": 144,
   "metadata": {},
   "outputs": [
    {
     "name": "stdout",
     "output_type": "stream",
     "text": [
      "\\begin{tabular}{llrrrrrr}\n",
      "\\toprule\n",
      "      Data\\_set &   Boot &  Max\\_sample &  Cv &  Max\\_feature &  Number\\_of\\_est &  Accuracy &  F-score \\\\\n",
      "\\midrule\n",
      "     wine.data &  False &          20 &   2 &           12 &             10 &      0.99 &     0.99 \\\\\n",
      " diabetes.data &  False &         100 &   2 &           10 &             15 &      0.73 &     0.69 \\\\\n",
      "    seeds.data &   True &          20 &   4 &            8 &              5 &      0.94 &     0.94 \\\\\n",
      "\\bottomrule\n",
      "\\end{tabular}\n",
      "\n"
     ]
    }
   ],
   "source": [
    "data = pd.read_csv('bagging.csv')\n",
    "data_data4 = data.loc[data['Data_set'] == 'wine.data']\n",
    "argmax4 = data_data4.iloc[data_data4['F-score'].values.argmax()]\n",
    "data_data5 = data.loc[data['Data_set'] == 'diabetes.data']\n",
    "argmax5 = data_data5.iloc[data_data5['F-score'].values.argmax()]\n",
    "data_data6 = data.loc[data['Data_set'] == 'seeds.data']\n",
    "argmax6 = data_data6.iloc[data_data6['F-score'].values.argmax()]\n",
    "    \n",
    "fil_data2 = pd.DataFrame([argmax4, argmax5, argmax6])\n",
    "print(fil_data2.round(2).to_latex(index=False))"
   ]
  },
  {
   "cell_type": "code",
   "execution_count": 145,
   "metadata": {},
   "outputs": [
    {
     "name": "stdout",
     "output_type": "stream",
     "text": [
      "\\begin{tabular}{llrrrrr}\n",
      "\\toprule\n",
      "  & Max\\_sample &   20  &   40  &   60  &   80  &   100 \\\\\n",
      "Cv & Boot &       &       &       &       &       \\\\\n",
      "\\midrule\n",
      "2 & False &  0.81 &  0.84 &  0.84 &  0.82 &  0.83 \\\\\n",
      "  & True  &  0.82 &  0.81 &  0.81 &  0.81 &  0.82 \\\\\n",
      "4 & False &  0.82 &  0.82 &  0.82 &  0.83 &  0.80 \\\\\n",
      "  & True  &  0.82 &  0.83 &  0.82 &  0.82 &  0.80 \\\\\n",
      "6 & False &  0.84 &  0.82 &  0.82 &  0.84 &  0.82 \\\\\n",
      "  & True  &  0.82 &  0.81 &  0.82 &  0.81 &  0.82 \\\\\n",
      "8 & False &  0.82 &  0.82 &  0.82 &  0.83 &  0.82 \\\\\n",
      "  & True  &  0.82 &  0.83 &  0.82 &  0.82 &  0.83 \\\\\n",
      "\\bottomrule\n",
      "\\end{tabular}\n",
      "\n",
      "\\begin{tabular}{llrrrrrrr}\n",
      "\\toprule\n",
      "  & Max\\_feature &    2  &    4  &    6  &    8  &    10 &    12 &    14 \\\\\n",
      "Cv & Boot &       &       &       &       &       &       &       \\\\\n",
      "\\midrule\n",
      "2 & False &  0.70 &  0.82 &  0.85 &  0.83 &  0.86 &  0.87 &  0.86 \\\\\n",
      "  & True  &  0.72 &  0.78 &  0.83 &  0.85 &  0.84 &  0.84 &  0.83 \\\\\n",
      "4 & False &  0.70 &  0.79 &  0.83 &  0.85 &  0.84 &  0.86 &  0.85 \\\\\n",
      "  & True  &  0.71 &  0.80 &  0.83 &  0.86 &  0.83 &  0.85 &  0.86 \\\\\n",
      "6 & False &  0.71 &  0.81 &  0.85 &  0.86 &  0.86 &  0.85 &  0.86 \\\\\n",
      "  & True  &  0.71 &  0.79 &  0.84 &  0.84 &  0.84 &  0.85 &  0.85 \\\\\n",
      "8 & False &  0.70 &  0.80 &  0.83 &  0.85 &  0.86 &  0.85 &  0.86 \\\\\n",
      "  & True  &  0.73 &  0.79 &  0.84 &  0.85 &  0.86 &  0.84 &  0.86 \\\\\n",
      "\\bottomrule\n",
      "\\end{tabular}\n",
      "\n",
      "\\begin{tabular}{llrrrr}\n",
      "\\toprule\n",
      "  & Number\\_of\\_est &    5  &    10 &    15 &    20 \\\\\n",
      "Cv & Boot &       &       &       &       \\\\\n",
      "\\midrule\n",
      "2 & False &  0.80 &  0.82 &  0.83 &  0.85 \\\\\n",
      "  & True  &  0.77 &  0.82 &  0.82 &  0.83 \\\\\n",
      "4 & False &  0.79 &  0.81 &  0.83 &  0.84 \\\\\n",
      "  & True  &  0.78 &  0.82 &  0.84 &  0.84 \\\\\n",
      "6 & False &  0.79 &  0.83 &  0.84 &  0.86 \\\\\n",
      "  & True  &  0.77 &  0.80 &  0.83 &  0.85 \\\\\n",
      "8 & False &  0.78 &  0.82 &  0.84 &  0.85 \\\\\n",
      "  & True  &  0.79 &  0.83 &  0.84 &  0.84 \\\\\n",
      "\\bottomrule\n",
      "\\end{tabular}\n",
      "\n"
     ]
    }
   ],
   "source": [
    "process_data = data.loc[data['Data_set'] == 'seeds.data'].round(2)\n",
    "process_data = process_data.round(2)\n",
    "# print(pd.pivot_table(process_data, values = 'F-score', index='Number_of_est', columns = 'Cv').reset_index().to_latex(index=False))\n",
    "# print(pd.pivot_table(process_data, values = 'F-score', index=['Learning_rate', 'Cv'], columns = 'Number_of_est').to_latex())\n",
    "\n",
    "for par in ['Max_sample', 'Max_feature', 'Number_of_est']:\n",
    "    print(pd.pivot_table(process_data, values = 'F-score', index=['Cv', 'Boot'], columns = par).round(2).to_latex())\n",
    "\n",
    "\n",
    "\n"
   ]
  },
  {
   "cell_type": "code",
   "execution_count": null,
   "metadata": {},
   "outputs": [],
   "source": []
  }
 ],
 "metadata": {
  "kernelspec": {
   "display_name": "data-science",
   "language": "python",
   "name": "data-science"
  },
  "language_info": {
   "codemirror_mode": {
    "name": "ipython",
    "version": 3
   },
   "file_extension": ".py",
   "mimetype": "text/x-python",
   "name": "python",
   "nbconvert_exporter": "python",
   "pygments_lexer": "ipython3",
   "version": "3.6.2"
  }
 },
 "nbformat": 4,
 "nbformat_minor": 2
}
